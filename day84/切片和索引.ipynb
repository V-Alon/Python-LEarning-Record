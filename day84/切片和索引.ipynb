{
 "cells": [
  {
   "cell_type": "code",
   "execution_count": 1,
   "id": "initial_id",
   "metadata": {
    "ExecuteTime": {
     "end_time": "2025-06-01T12:05:18.355998Z",
     "start_time": "2025-06-01T12:05:17.778996Z"
    }
   },
   "outputs": [
    {
     "name": "stdout",
     "output_type": "stream",
     "text": [
      "1\n"
     ]
    }
   ],
   "source": [
    "import numpy as np\n",
    "arr=np.arange(10)\n",
    "print(arr[1])\n",
    "#从索引二开始到索引7停止,间隔为2"
   ]
  },
  {
   "cell_type": "code",
   "execution_count": 2,
   "id": "26d67aaf-51c7-48cf-8552-dd3c128851f9",
   "metadata": {},
   "outputs": [
    {
     "data": {
      "text/plain": [
       "array([0, 1, 2, 3, 4, 5, 6, 7, 8, 9])"
      ]
     },
     "execution_count": 2,
     "metadata": {},
     "output_type": "execute_result"
    }
   ],
   "source": [
    "arr"
   ]
  },
  {
   "cell_type": "code",
   "id": "239493e0-aa8a-4ef4-a1b2-d3dea54a14e7",
   "metadata": {
    "ExecuteTime": {
     "end_time": "2025-06-02T12:04:38.005693Z",
     "start_time": "2025-06-02T12:04:37.810285Z"
    }
   },
   "source": [
    "s = slice(2,7,2)#start   stop   step\n",
    "arr[s]"
   ],
   "outputs": [
    {
     "ename": "NameError",
     "evalue": "name 'arr' is not defined",
     "output_type": "error",
     "traceback": [
      "\u001B[31m---------------------------------------------------------------------------\u001B[39m",
      "\u001B[31mNameError\u001B[39m                                 Traceback (most recent call last)",
      "\u001B[36mCell\u001B[39m\u001B[36m \u001B[39m\u001B[32mIn[1]\u001B[39m\u001B[32m, line 2\u001B[39m\n\u001B[32m      1\u001B[39m s = \u001B[38;5;28mslice\u001B[39m(\u001B[32m2\u001B[39m,\u001B[32m7\u001B[39m,\u001B[32m2\u001B[39m)\u001B[38;5;66;03m#start   stop   step\u001B[39;00m\n\u001B[32m----> \u001B[39m\u001B[32m2\u001B[39m \u001B[43marr\u001B[49m[s]\n",
      "\u001B[31mNameError\u001B[39m: name 'arr' is not defined"
     ]
    }
   ],
   "execution_count": 1
  },
  {
   "cell_type": "markdown",
   "id": "e8b38065-b45c-4b44-b10b-f48bcb197f30",
   "metadata": {},
   "source": [
    "start:stop:step"
   ]
  },
  {
   "cell_type": "code",
   "execution_count": 7,
   "id": "8a65c8f9-126d-4112-83f0-c85d1df60a00",
   "metadata": {},
   "outputs": [
    {
     "data": {
      "text/plain": [
       "array([2, 4, 6])"
      ]
     },
     "execution_count": 7,
     "metadata": {},
     "output_type": "execute_result"
    }
   ],
   "source": [
    "arr2=arr[2:7:2]\n",
    "arr2"
   ]
  },
  {
   "cell_type": "markdown",
   "id": "d9bbefd8-00cb-4005-a067-79da6e9c79b3",
   "metadata": {},
   "source": [
    "多维数组也同理"
   ]
  },
  {
   "cell_type": "code",
   "execution_count": 14,
   "id": "d56c01fe-57d8-4c44-800a-fd14f72edd44",
   "metadata": {},
   "outputs": [
    {
     "name": "stdout",
     "output_type": "stream",
     "text": [
      "[[ 1  2  3]\n",
      " [ 4  5  6]\n",
      " [ 7  8  9]\n",
      " [10 11 12]\n",
      " [13 14 15]]\n",
      "[ 2  5  8 11 14]\n"
     ]
    }
   ],
   "source": [
    "arr=np.arange(1,16)\n",
    "arr=arr.reshape(5,3)\n",
    "print(arr)\n",
    "print(arr[...,1])"
   ]
  }
 ],
 "metadata": {
  "kernelspec": {
   "display_name": "Python 3 (ipykernel)",
   "language": "python",
   "name": "python3"
  },
  "language_info": {
   "codemirror_mode": {
    "name": "ipython",
    "version": 3
   },
   "file_extension": ".py",
   "mimetype": "text/x-python",
   "name": "python",
   "nbconvert_exporter": "python",
   "pygments_lexer": "ipython3",
   "version": "3.12.8"
  }
 },
 "nbformat": 4,
 "nbformat_minor": 5
}
