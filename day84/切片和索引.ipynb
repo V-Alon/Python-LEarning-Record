{
 "cells": [
  {
   "cell_type": "code",
   "execution_count": 1,
   "id": "initial_id",
   "metadata": {
    "ExecuteTime": {
     "end_time": "2025-06-01T12:05:18.355998Z",
     "start_time": "2025-06-01T12:05:17.778996Z"
    }
   },
   "outputs": [
    {
     "name": "stdout",
     "output_type": "stream",
     "text": [
      "1\n"
     ]
    }
   ],
   "source": [
    "import numpy as np\n",
    "arr=np.arange(10)\n",
    "print(arr[1])\n",
    "#从索引二开始到索引7停止,间隔为2"
   ]
  },
  {
   "cell_type": "code",
   "execution_count": 2,
   "id": "26d67aaf-51c7-48cf-8552-dd3c128851f9",
   "metadata": {},
   "outputs": [
    {
     "data": {
      "text/plain": [
       "array([0, 1, 2, 3, 4, 5, 6, 7, 8, 9])"
      ]
     },
     "execution_count": 2,
     "metadata": {},
     "output_type": "execute_result"
    }
   ],
   "source": [
    "arr"
   ]
  },
  {
   "cell_type": "code",
   "execution_count": 6,
   "id": "239493e0-aa8a-4ef4-a1b2-d3dea54a14e7",
   "metadata": {},
   "outputs": [
    {
     "data": {
      "text/plain": [
       "array([2, 4, 6])"
      ]
     },
     "execution_count": 6,
     "metadata": {},
     "output_type": "execute_result"
    }
   ],
   "source": [
    "s = slice(2,7,2)#start   stop   step\n",
    "arr[s]"
   ]
  },
  {
   "cell_type": "markdown",
   "id": "e8b38065-b45c-4b44-b10b-f48bcb197f30",
   "metadata": {},
   "source": [
    "start:stop:step"
   ]
  },
  {
   "cell_type": "code",
   "execution_count": 7,
   "id": "8a65c8f9-126d-4112-83f0-c85d1df60a00",
   "metadata": {},
   "outputs": [
    {
     "data": {
      "text/plain": [
       "array([2, 4, 6])"
      ]
     },
     "execution_count": 7,
     "metadata": {},
     "output_type": "execute_result"
    }
   ],
   "source": [
    "arr2=arr[2:7:2]\n",
    "arr2"
   ]
  },
  {
   "cell_type": "markdown",
   "id": "d9bbefd8-00cb-4005-a067-79da6e9c79b3",
   "metadata": {},
   "source": [
    "多维数组也同理"
   ]
  },
  {
   "cell_type": "code",
   "execution_count": null,
   "id": "d56c01fe-57d8-4c44-800a-fd14f72edd44",
   "metadata": {},
   "outputs": [],
   "source": []
  }
 ],
 "metadata": {
  "kernelspec": {
   "display_name": "Python 3 (ipykernel)",
   "language": "python",
   "name": "python3"
  },
  "language_info": {
   "codemirror_mode": {
    "name": "ipython",
    "version": 3
   },
   "file_extension": ".py",
   "mimetype": "text/x-python",
   "name": "python",
   "nbconvert_exporter": "python",
   "pygments_lexer": "ipython3",
   "version": "3.12.8"
  }
 },
 "nbformat": 4,
 "nbformat_minor": 5
}
