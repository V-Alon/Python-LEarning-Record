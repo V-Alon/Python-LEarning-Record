{
 "cells": [
  {
   "cell_type": "code",
   "id": "initial_id",
   "metadata": {
    "collapsed": true,
    "ExecuteTime": {
     "end_time": "2025-05-27T11:19:36.711652Z",
     "start_time": "2025-05-27T11:19:34.257659Z"
    }
   },
   "source": [
    "import pandas as pd\n",
    "\n",
    "\n",
    "df=pd.read_csv('./dog.csv')\n",
    "print(df)"
   ],
   "outputs": [
    {
     "name": "stdout",
     "output_type": "stream",
     "text": [
      "                      {\n",
      "    1: 1            NaN\n",
      "    2: 2            NaN\n",
      "    40804: 1        NaN\n",
      "    90201: 1        NaN\n",
      "    90203: 1        NaN\n",
      "    102201: 1       NaN\n",
      "    3010271: 1      NaN\n",
      "    \"MARCH\": 2      NaN\n",
      "    \"APRIL\": 51     NaN\n",
      "    \"AUGUST\": 14    NaN\n",
      "    \"DECEMBER\": 4   NaN\n",
      "    \"SUNDAY\": 13    NaN\n",
      "    \"MONDAY\": 4     NaN\n",
      "    \"FRIDAY\": 19    NaN\n",
      "    \"JAN\": 1        NaN\n",
      "    \"JUN\": 1        NaN\n",
      "    \"JANUARY\": 1    NaN\n",
      "    \"JUNE\": 24      NaN\n",
      "    \"JULY\": 9       NaN\n",
      "    \"MON\": 2        NaN\n",
      "    \"MAY\": 13       NaN\n",
      "    \"NOVEMBER\": 1   NaN\n",
      "    \"TUESDAY\": 7    NaN\n",
      "    \"SEPTEMBER\": 2  NaN\n",
      "    \"WEDNESDAY\": 10 NaN\n",
      "    \"SUN\": 5        NaN\n",
      "}                   NaN\n"
     ]
    }
   ],
   "execution_count": 1
  }
 ],
 "metadata": {
  "kernelspec": {
   "display_name": "Python 3",
   "language": "python",
   "name": "python3"
  },
  "language_info": {
   "codemirror_mode": {
    "name": "ipython",
    "version": 2
   },
   "file_extension": ".py",
   "mimetype": "text/x-python",
   "name": "python",
   "nbconvert_exporter": "python",
   "pygments_lexer": "ipython2",
   "version": "2.7.6"
  }
 },
 "nbformat": 4,
 "nbformat_minor": 5
}
