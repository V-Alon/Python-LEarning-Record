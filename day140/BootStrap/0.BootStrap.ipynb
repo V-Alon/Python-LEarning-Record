{
 "cells": [
  {
   "metadata": {},
   "cell_type": "markdown",
   "source": [
    "BootStrap 是别人写好的CSS样式\n",
    "\n",
    "1.下载BootStrap\n",
    "2.使用\n",
    "    在页面上引入BootStrap\n",
    "    编写HTML时，按照BootStrap的规定来编写+自定制"
   ],
   "id": "bef6994917735783"
  }
 ],
 "metadata": {
  "kernelspec": {
   "display_name": "Python 3",
   "language": "python",
   "name": "python3"
  },
  "language_info": {
   "codemirror_mode": {
    "name": "ipython",
    "version": 2
   },
   "file_extension": ".py",
   "mimetype": "text/x-python",
   "name": "python",
   "nbconvert_exporter": "python",
   "pygments_lexer": "ipython2",
   "version": "2.7.6"
  }
 },
 "nbformat": 4,
 "nbformat_minor": 5
}
