{
 "cells": [
  {
   "metadata": {
    "ExecuteTime": {
     "end_time": "2025-05-19T09:13:16.568181Z",
     "start_time": "2025-05-19T09:13:16.558177Z"
    }
   },
   "cell_type": "code",
   "source": [
    "import numpy as np\n",
    "#reshape\n",
    "t4=np.arange(12)\n",
    "print(t4)\n",
    "print(t4.reshape(3,4))#变形\n",
    "\n",
    "t5=np.arange(24).reshape(2,3,4)\n",
    "print('t5',t5)\n",
    "print(t5.reshape(4,6))\n",
    "\n",
    "t5=t5.reshape(4,6)\n",
    "print(t5)\n",
    "\n",
    "t5=t5.reshape(-1)\n",
    "print('reshape(-1)',t5)\n",
    "\n",
    "\n",
    "t5=t5.flatten()\n",
    "print('flatten()',t5)\n",
    "\n",
    "print(t5+2)#numpy的广播机制\n",
    "\n"
   ],
   "id": "18fae76908411035",
   "outputs": [
    {
     "name": "stdout",
     "output_type": "stream",
     "text": [
      "[ 0  1  2  3  4  5  6  7  8  9 10 11]\n",
      "[[ 0  1  2  3]\n",
      " [ 4  5  6  7]\n",
      " [ 8  9 10 11]]\n",
      "t5 [[[ 0  1  2  3]\n",
      "  [ 4  5  6  7]\n",
      "  [ 8  9 10 11]]\n",
      "\n",
      " [[12 13 14 15]\n",
      "  [16 17 18 19]\n",
      "  [20 21 22 23]]]\n",
      "[[ 0  1  2  3  4  5]\n",
      " [ 6  7  8  9 10 11]\n",
      " [12 13 14 15 16 17]\n",
      " [18 19 20 21 22 23]]\n",
      "[[ 0  1  2  3  4  5]\n",
      " [ 6  7  8  9 10 11]\n",
      " [12 13 14 15 16 17]\n",
      " [18 19 20 21 22 23]]\n",
      "reshape(-1) [ 0  1  2  3  4  5  6  7  8  9 10 11 12 13 14 15 16 17 18 19 20 21 22 23]\n",
      "flatten() [ 0  1  2  3  4  5  6  7  8  9 10 11 12 13 14 15 16 17 18 19 20 21 22 23]\n",
      "[ 2  3  4  5  6  7  8  9 10 11 12 13 14 15 16 17 18 19 20 21 22 23 24 25]\n"
     ]
    }
   ],
   "execution_count": 12
  }
 ],
 "metadata": {
  "kernelspec": {
   "display_name": "Python 3",
   "language": "python",
   "name": "python3"
  },
  "language_info": {
   "codemirror_mode": {
    "name": "ipython",
    "version": 2
   },
   "file_extension": ".py",
   "mimetype": "text/x-python",
   "name": "python",
   "nbconvert_exporter": "python",
   "pygments_lexer": "ipython2",
   "version": "2.7.6"
  }
 },
 "nbformat": 4,
 "nbformat_minor": 5
}
