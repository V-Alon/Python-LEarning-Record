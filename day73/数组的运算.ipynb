{
 "cells": [
  {
   "cell_type": "code",
   "id": "initial_id",
   "metadata": {
    "collapsed": true,
    "ExecuteTime": {
     "end_time": "2025-05-19T09:24:20.355419Z",
     "start_time": "2025-05-19T09:24:20.349289Z"
    }
   },
   "source": [
    "import numpy as np\n",
    "\n",
    "t6=np.arange(0,6)\n",
    "t7=np.array([0,1,2,3,4,5])\n",
    "t5=np.arange(24).reshape(4,6)\n",
    "\n",
    "\n",
    "print('t5-5',t5-5)\n",
    "\n",
    "print(t5-t7)\n",
    "t8=np.arange(4).reshape(4,1)\n",
    "print(t8)\n",
    "print(t5-t8)\n",
    "\n",
    "t9=np.array([0,1,2,3,4,5,6,7,8,9])"
   ],
   "outputs": [
    {
     "name": "stdout",
     "output_type": "stream",
     "text": [
      "t5-5 [[-5 -4 -3 -2 -1  0]\n",
      " [ 1  2  3  4  5  6]\n",
      " [ 7  8  9 10 11 12]\n",
      " [13 14 15 16 17 18]]\n",
      "[[ 0  0  0  0  0  0]\n",
      " [ 6  6  6  6  6  6]\n",
      " [12 12 12 12 12 12]\n",
      " [18 18 18 18 18 18]]\n",
      "[[0]\n",
      " [1]\n",
      " [2]\n",
      " [3]]\n",
      "[[ 0  1  2  3  4  5]\n",
      " [ 5  6  7  8  9 10]\n",
      " [10 11 12 13 14 15]\n",
      " [15 16 17 18 19 20]]\n"
     ]
    }
   ],
   "execution_count": 9
  }
 ],
 "metadata": {
  "kernelspec": {
   "display_name": "Python 3",
   "language": "python",
   "name": "python3"
  },
  "language_info": {
   "codemirror_mode": {
    "name": "ipython",
    "version": 2
   },
   "file_extension": ".py",
   "mimetype": "text/x-python",
   "name": "python",
   "nbconvert_exporter": "python",
   "pygments_lexer": "ipython2",
   "version": "2.7.6"
  }
 },
 "nbformat": 4,
 "nbformat_minor": 5
}
