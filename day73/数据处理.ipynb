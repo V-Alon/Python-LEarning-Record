{
 "cells": [
  {
   "metadata": {
    "ExecuteTime": {
     "end_time": "2025-05-19T13:47:03.620794Z",
     "start_time": "2025-05-19T13:47:03.612795Z"
    }
   },
   "cell_type": "code",
   "source": [
    "import numpy as np\n",
    "\n",
    "UK_path='UK_video_data.csv'\n",
    "US_path='US_video_data.csv'\n",
    "t1=np.loadtxt(US_path,delimiter=',',dtype=int)\n",
    "t2=np.loadtxt(UK_path,delimiter=',',dtype=int)\n",
    "\n",
    "# print(t2)\n",
    "\n",
    "\n",
    "#取行\n",
    "# print(t2[2])\n",
    "\n",
    "#取连续多行\n",
    "# print(t2[2:])\n",
    "\n",
    "\n",
    "#取列\n",
    "# print(t2[2,:])\n",
    "# print(t2[0:,3:])#从第一行开始到结束的每一行的第四列\n",
    "\n",
    "\n",
    "# print(t2[1:3,1:3])\n",
    "\n",
    "\n",
    "\n",
    "print(t2[[1,2],[2,3]])#第一个列表内存储需要的行的位置,第二个列表内存储列的位置"
   ],
   "id": "b60354825357647c",
   "outputs": [
    {
     "name": "stdout",
     "output_type": "stream",
     "text": [
      "[ 289 1023]\n"
     ]
    }
   ],
   "execution_count": 24
  }
 ],
 "metadata": {
  "kernelspec": {
   "display_name": "Python 3",
   "language": "python",
   "name": "python3"
  },
  "language_info": {
   "codemirror_mode": {
    "name": "ipython",
    "version": 2
   },
   "file_extension": ".py",
   "mimetype": "text/x-python",
   "name": "python",
   "nbconvert_exporter": "python",
   "pygments_lexer": "ipython2",
   "version": "2.7.6"
  }
 },
 "nbformat": 4,
 "nbformat_minor": 5
}
