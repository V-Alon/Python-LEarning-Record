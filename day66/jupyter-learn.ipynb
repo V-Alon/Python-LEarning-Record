{
 "cells": [
  {
   "cell_type": "markdown",
   "id": "10b069f6-dc2f-40bc-8039-d0e8e9829f3d",
   "metadata": {},
   "source": [
    "###jupyter有两种模式\n",
    "- markdown模式\n",
    "- code代码模式"
   ]
  },
  {
   "cell_type": "code",
   "execution_count": 2,
   "id": "a0be3625-63f8-4910-b7a9-b37840a942eb",
   "metadata": {},
   "outputs": [
    {
     "name": "stdout",
     "output_type": "stream",
     "text": [
      "helloworld\n"
     ]
    }
   ],
   "source": [
    "print('helloworld')"
   ]
  }
 ],
 "metadata": {
  "kernelspec": {
   "display_name": "Python [conda env:base] *",
   "language": "python",
   "name": "conda-base-py"
  },
  "language_info": {
   "codemirror_mode": {
    "name": "ipython",
    "version": 3
   },
   "file_extension": ".py",
   "mimetype": "text/x-python",
   "name": "python",
   "nbconvert_exporter": "python",
   "pygments_lexer": "ipython3",
   "version": "3.12.7"
  }
 },
 "nbformat": 4,
 "nbformat_minor": 5
}
