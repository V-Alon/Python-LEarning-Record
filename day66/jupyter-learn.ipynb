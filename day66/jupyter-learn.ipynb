{
 "cells": [
  {
   "cell_type": "markdown",
   "id": "10b069f6-dc2f-40bc-8039-d0e8e9829f3d",
   "metadata": {},
   "source": [
    "###jupyter有两种模式\n",
    "- markdown模式\n",
    "- code代码模式"
   ]
  },
  {
   "cell_type": "code",
   "execution_count": 1,
   "id": "c61b5306-323d-434d-a024-a439559a0f8e",
   "metadata": {},
   "outputs": [
    {
     "name": "stdout",
     "output_type": "stream",
     "text": [
      "helloworld\n"
     ]
    }
   ],
   "source": [
    "print('helloworld')"
   ]
  },
  {
   "cell_type": "code",
   "execution_count": null,
   "id": "d8fb9bb5-63f4-426c-ab1b-b36916010e2b",
   "metadata": {},
   "outputs": [],
   "source": []
  }
 ],
 "metadata": {
  "kernelspec": {
   "display_name": "Python 3 (ipykernel)",
   "language": "python",
   "name": "python3"
  },
  "language_info": {
   "codemirror_mode": {
    "name": "ipython",
    "version": 3
   },
   "file_extension": ".py",
   "mimetype": "text/x-python",
   "name": "python",
   "nbconvert_exporter": "python",
   "pygments_lexer": "ipython3",
   "version": "3.12.7"
  }
 },
 "nbformat": 4,
 "nbformat_minor": 5
}
