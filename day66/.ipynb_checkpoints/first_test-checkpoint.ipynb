{
 "cells": [
  {
   "metadata": {
    "ExecuteTime": {
     "end_time": "2025-05-12T12:15:22.062804Z",
     "start_time": "2025-05-12T12:15:20.435385Z"
    }
   },
   "cell_type": "code",
   "source": [
    "import requests\n",
    "response = requests.get('https://www.baidu.com')\n",
    "response.status_code\n"
   ],
   "id": "461ad93d08720812",
   "outputs": [
    {
     "data": {
      "text/plain": [
       "200"
      ]
     },
     "execution_count": 4,
     "metadata": {},
     "output_type": "execute_result"
    }
   ],
   "execution_count": 4
  },
  {
   "metadata": {},
   "cell_type": "code",
   "outputs": [],
   "execution_count": null,
   "source": [
    "import requests\n",
    "response = requests.get('https://www.baidu.com')\n",
    "response.text"
   ],
   "id": "5987efdcec7eea8e"
  },
  {
   "metadata": {},
   "cell_type": "markdown",
   "source": "###这是认识jupyter notebook",
   "id": "6b2dd2695297b7e8"
  },
  {
   "metadata": {},
   "cell_type": "code",
   "outputs": [],
   "execution_count": null,
   "source": "",
   "id": "bda15701cef7327d"
  }
 ],
 "metadata": {
  "kernelspec": {
   "display_name": "Python 3",
   "language": "python",
   "name": "python3"
  },
  "language_info": {
   "codemirror_mode": {
    "name": "ipython",
    "version": 2
   },
   "file_extension": ".py",
   "mimetype": "text/x-python",
   "name": "python",
   "nbconvert_exporter": "python",
   "pygments_lexer": "ipython2",
   "version": "2.7.6"
  }
 },
 "nbformat": 4,
 "nbformat_minor": 5
}
