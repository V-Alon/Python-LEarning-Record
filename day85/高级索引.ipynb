{
 "cells": [
  {
   "cell_type": "code",
   "execution_count": 1,
   "id": "a9f7d53c-0569-4dfb-9e1b-b59f7f484ada",
   "metadata": {},
   "outputs": [
    {
     "name": "stdout",
     "output_type": "stream",
     "text": [
      "[1 5 7]\n"
     ]
    }
   ],
   "source": [
    "import numpy as np\n",
    "arr=np.array([[1,2,3],[4,5,6],[7,8,9]])\n",
    "print(arr[[0,1,2],[0,1,0]])"
   ]
  },
  {
   "cell_type": "markdown",
   "id": "e06aebfa-02bc-489e-80c8-533fcb27013f",
   "metadata": {},
   "source": [
    "前面的是行坐标,后面的是列坐标"
   ]
  },
  {
   "cell_type": "code",
   "execution_count": 2,
   "id": "f7f978c6-8a45-4e7d-881f-a8556b9a7721",
   "metadata": {},
   "outputs": [
    {
     "name": "stdout",
     "output_type": "stream",
     "text": [
      "我们的数组是:\n",
      "[[ 1  2  3]\n",
      " [ 4  5  6]\n",
      " [ 7  8  9]\n",
      " [10 11 12]]\n",
      "\n",
      "\n",
      "这四个角的元素是:\n",
      "[[ 1  3]\n",
      " [10 12]]\n"
     ]
    }
   ],
   "source": [
    "arr=np.array([[ 1, 2, 3],[ 4, 5, 6],[ 7, 8, 9],[ 10, 11, 12]])\n",
    "print('我们的数组是:')\n",
    "print(arr)\n",
    "print('\\n')\n",
    "rows=np.array([[0,0],[3,3]])\n",
    "cols=np.array([[0,2],[0,2]])\n",
    "arr2=arr[rows,cols]\n",
    "print('这四个角的元素是:')\n",
    "print(arr2)"
   ]
  },
  {
   "cell_type": "code",
   "execution_count": 3,
   "id": "04a2da23-dccf-4a58-8bbf-35b88d9c591e",
   "metadata": {},
   "outputs": [
    {
     "name": "stdout",
     "output_type": "stream",
     "text": [
      "[ 6  7  8  9 10 11 12]\n"
     ]
    }
   ],
   "source": [
    "arr=np.array([[ 1, 2, 3],[ 4, 5, 6],[ 7, 8, 9],[ 10, 11, 12]])\n",
    "print(arr[arr>5])"
   ]
  }
 ],
 "metadata": {
  "kernelspec": {
   "display_name": "Python 3 (ipykernel)",
   "language": "python",
   "name": "python3"
  },
  "language_info": {
   "codemirror_mode": {
    "name": "ipython",
    "version": 3
   },
   "file_extension": ".py",
   "mimetype": "text/x-python",
   "name": "python",
   "nbconvert_exporter": "python",
   "pygments_lexer": "ipython3",
   "version": "3.12.8"
  }
 },
 "nbformat": 4,
 "nbformat_minor": 5
}
