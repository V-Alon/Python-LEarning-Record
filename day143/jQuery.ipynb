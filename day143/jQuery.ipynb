{
 "cells": [
  {
   "metadata": {},
   "cell_type": "markdown",
   "source": [
    "#jQuery是一个python的第三方模块\n",
    "##id选择器\n",
    "$(#\"txt\")\n",
    "\n",
    "\n",
    "##样式选择器\n",
    "$(\".c1\")\n",
    "\n",
    "\n",
    "\n",
    "##标签选择器\n",
    "$(\"h1\")\n",
    "\n",
    "\n",
    "\n",
    "\n",
    "##层级选择器\n",
    "$(\".c1 .c2 a \")\n"
   ],
   "id": "1114fb33bb79c2de"
  },
  {
   "metadata": {},
   "cell_type": "markdown",
   "source": [
    "#间接寻找\n",
    "\n",
    "$(\"#c1\").prev()//上一个\n",
    "\n",
    "$(\"#c1\")\n",
    "\n",
    "$(\"#c1\").next()//下一个\n",
    "\n",
    "$(\"#c1\").siblings()//所有的\n",
    "\n",
    "\n"
   ],
   "id": "ef55fe4275b0fd52"
  },
  {
   "metadata": {},
   "cell_type": "markdown",
   "source": [
    "#找父子\n",
    "\n",
    "$(\"#c1\").parent()\n",
    "\n",
    "$(\"#c1\").children()\n",
    "\n",
    "$(\"#c1\").children(\".p10\")//儿子中class=p10\n",
    "\n",
    "\n",
    "$(\"#c1\").siblings()//所有的\n",
    "\n",
    "\n",
    "\n",
    "\n"
   ],
   "id": "728030d8f49fc6c3"
  }
 ],
 "metadata": {
  "kernelspec": {
   "display_name": "Python 3",
   "language": "python",
   "name": "python3"
  },
  "language_info": {
   "codemirror_mode": {
    "name": "ipython",
    "version": 2
   },
   "file_extension": ".py",
   "mimetype": "text/x-python",
   "name": "python",
   "nbconvert_exporter": "python",
   "pygments_lexer": "ipython2",
   "version": "2.7.6"
  }
 },
 "nbformat": 4,
 "nbformat_minor": 5
}
