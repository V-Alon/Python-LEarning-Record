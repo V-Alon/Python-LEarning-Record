{
 "cells": [
  {
   "metadata": {},
   "cell_type": "markdown",
   "source": [
    "###数据处理\n",
    "在excel表格中输入=跟上公式(MAX,SUMIF等)（）内选择参数列表或者某一格数据\n",
    "可以使用IFERROR来处理错误数据带来的报错问题\n",
    "可以使用F4快捷键来改变数据的引用方式，分为：直接引用和绝对引用\n"
   ],
   "id": "5e767e1f535aef38"
  }
 ],
 "metadata": {
  "kernelspec": {
   "display_name": "Python 3",
   "language": "python",
   "name": "python3"
  },
  "language_info": {
   "codemirror_mode": {
    "name": "ipython",
    "version": 2
   },
   "file_extension": ".py",
   "mimetype": "text/x-python",
   "name": "python",
   "nbconvert_exporter": "python",
   "pygments_lexer": "ipython2",
   "version": "2.7.6"
  }
 },
 "nbformat": 4,
 "nbformat_minor": 5
}
