{
 "cells": [
  {
   "metadata": {},
   "cell_type": "code",
   "outputs": [],
   "execution_count": null,
   "source": "#numpy学习",
   "id": "cb2192966cbef004"
  },
  {
   "metadata": {},
   "cell_type": "markdown",
   "source": "做科学计算的基础库,重在数值计算,也是大部分python的科学计算库的基础库,多用在大型,多维数组上执行数值运算",
   "id": "8ef5112172bb9bc"
  },
  {
   "metadata": {
    "ExecuteTime": {
     "end_time": "2025-05-18T13:58:20.153617Z",
     "start_time": "2025-05-18T13:58:20.058052Z"
    }
   },
   "cell_type": "code",
   "source": [
    "import numpy as np\n",
    "a=np.array([1,2,3,4,5])\n",
    "b=np.array(range(1,6))\n",
    "c=np.arange(1,6)\n",
    "print(a)\n",
    "print(b)\n",
    "print(c)"
   ],
   "id": "1acc9ca7b42532d0",
   "outputs": [
    {
     "name": "stdout",
     "output_type": "stream",
     "text": [
      "[1 2 3 4 5]\n",
      "[1 2 3 4 5]\n",
      "[1 2 3 4 5]\n"
     ]
    }
   ],
   "execution_count": 1
  },
  {
   "metadata": {},
   "cell_type": "markdown",
   "source": [
    "上面的a,b,c内容相同,arange和range不同\n",
    "np.arange()的用法:arange([start,]stop[,step,],dtype=None)"
   ],
   "id": "5ba62a0b4306ddb9"
  }
 ],
 "metadata": {
  "kernelspec": {
   "display_name": "Python 3",
   "language": "python",
   "name": "python3"
  },
  "language_info": {
   "codemirror_mode": {
    "name": "ipython",
    "version": 2
   },
   "file_extension": ".py",
   "mimetype": "text/x-python",
   "name": "python",
   "nbconvert_exporter": "python",
   "pygments_lexer": "ipython2",
   "version": "2.7.6"
  }
 },
 "nbformat": 4,
 "nbformat_minor": 5
}
