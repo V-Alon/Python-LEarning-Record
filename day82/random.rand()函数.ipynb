{
 "cells": [
  {
   "cell_type": "code",
   "execution_count": 1,
   "id": "d80a5604-938e-49ba-b471-bf8d6b58df17",
   "metadata": {},
   "outputs": [
    {
     "data": {
      "text/plain": [
       "0.19089432370729376"
      ]
     },
     "execution_count": 1,
     "metadata": {},
     "output_type": "execute_result"
    }
   ],
   "source": [
    "import numpy as np\n",
    "arr=np.random.rand()\n",
    "arr"
   ]
  },
  {
   "cell_type": "code",
   "execution_count": 2,
   "id": "a50f8168-8749-472c-8176-0fdd9f6421f5",
   "metadata": {},
   "outputs": [
    {
     "data": {
      "text/plain": [
       "array([[0.19454407, 0.36195304],\n",
       "       [0.16521567, 0.73329638],\n",
       "       [0.94752104, 0.63313415]])"
      ]
     },
     "execution_count": 2,
     "metadata": {},
     "output_type": "execute_result"
    }
   ],
   "source": [
    "arr=np.random.rand(3,2)\n",
    "arr"
   ]
  },
  {
   "cell_type": "code",
   "execution_count": 3,
   "id": "405f8940-ea17-4374-9eac-ce6ff608ecb8",
   "metadata": {},
   "outputs": [
    {
     "data": {
      "text/plain": [
       "array([0.30703843, 0.3483256 ])"
      ]
     },
     "execution_count": 3,
     "metadata": {},
     "output_type": "execute_result"
    }
   ],
   "source": [
    "arr=np.random.random(2)\n",
    "arr"
   ]
  },
  {
   "cell_type": "code",
   "execution_count": 7,
   "id": "a3fa0069-fca1-427b-8dd2-69a3ed89f023",
   "metadata": {},
   "outputs": [
    {
     "data": {
      "text/plain": [
       "array([7, 9, 7, 8, 6, 3, 1, 5, 5, 4, 5, 1, 1, 6, 7, 4, 5, 8, 6, 9, 7, 6,\n",
       "       8, 8, 4, 6, 2, 6, 4, 3, 5, 9, 5, 1, 2, 3, 7, 6, 5, 8, 4, 4, 4, 7,\n",
       "       6, 4, 4, 7, 5, 4, 1, 2, 2, 3, 8, 6, 9, 2, 6, 3, 3, 1, 5, 4, 5, 4,\n",
       "       8, 9, 7, 5, 1, 1, 7, 6, 7, 4, 3, 6, 2, 8, 1, 3, 2, 4, 7, 2, 8, 6,\n",
       "       4, 7, 4, 2, 5, 1, 7, 2, 2, 5, 6, 6], dtype=int32)"
      ]
     },
     "execution_count": 7,
     "metadata": {},
     "output_type": "execute_result"
    }
   ],
   "source": [
    "arr=np.random.randint(1,10,100)\n",
    "arr"
   ]
  },
  {
   "cell_type": "code",
   "execution_count": 10,
   "id": "f8a990c2-d870-4c4c-b76b-8d7b1d0dbc46",
   "metadata": {},
   "outputs": [
    {
     "data": {
      "text/plain": [
       "array([-1.08359975, -0.87351127,  1.79898758])"
      ]
     },
     "execution_count": 10,
     "metadata": {},
     "output_type": "execute_result"
    }
   ],
   "source": [
    "arr=np.random.randn(3)\n",
    "arr"
   ]
  },
  {
   "cell_type": "code",
   "execution_count": 12,
   "id": "dbe2522a-c86d-4eb3-9a41-f06a5040b719",
   "metadata": {},
   "outputs": [
    {
     "data": {
      "text/plain": [
       "-0.7553593481390263"
      ]
     },
     "execution_count": 12,
     "metadata": {},
     "output_type": "execute_result"
    }
   ],
   "source": [
    "arr=np.random.normal()\n",
    "arr"
   ]
  }
 ],
 "metadata": {
  "kernelspec": {
   "display_name": "Python 3 (ipykernel)",
   "language": "python",
   "name": "python3"
  },
  "language_info": {
   "codemirror_mode": {
    "name": "ipython",
    "version": 3
   },
   "file_extension": ".py",
   "mimetype": "text/x-python",
   "name": "python",
   "nbconvert_exporter": "python",
   "pygments_lexer": "ipython3",
   "version": "3.12.8"
  }
 },
 "nbformat": 4,
 "nbformat_minor": 5
}
