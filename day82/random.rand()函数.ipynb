{
 "cells": [
  {
   "cell_type": "code",
   "execution_count": null,
   "id": "d80a5604-938e-49ba-b471-bf8d6b58df17",
   "metadata": {},
   "outputs": [],
   "source": []
  }
 ],
 "metadata": {
  "kernelspec": {
   "display_name": "",
   "name": ""
  },
  "language_info": {
   "name": ""
  }
 },
 "nbformat": 4,
 "nbformat_minor": 5
}
