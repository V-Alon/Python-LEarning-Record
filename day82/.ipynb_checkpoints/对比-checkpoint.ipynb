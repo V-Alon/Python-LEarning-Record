{
 "cells": [
  {
   "cell_type": "code",
   "execution_count": 13,
   "id": "e64be97f-78fb-418c-b5a6-fc00da54ed4a",
   "metadata": {},
   "outputs": [],
   "source": [
    "import random\n",
    "x=[]\n",
    "for i in range(1000000):\n",
    "    x.append(random.random())"
   ]
  },
  {
   "cell_type": "code",
   "execution_count": 14,
   "id": "da96216a-2c22-400e-bf69-d011af2b1078",
   "metadata": {},
   "outputs": [
    {
     "name": "stdout",
     "output_type": "stream",
     "text": [
      "耗时:0.008000\n",
      "499758.40248019836\n"
     ]
    }
   ],
   "source": [
    "import time\n",
    "t1=time.time()\n",
    "ret=sum(x)\n",
    "t2=time.time()\n",
    "print('耗时:%f'%(t2-t1))\n",
    "print(ret)"
   ]
  },
  {
   "cell_type": "code",
   "execution_count": 16,
   "id": "1d3edc12-6d0a-4cfe-a4bc-6c732fab2725",
   "metadata": {},
   "outputs": [
    {
     "name": "stdout",
     "output_type": "stream",
     "text": [
      "耗时:0.002000\n"
     ]
    }
   ],
   "source": [
    "import numpy as np\n",
    "n=np.array(x)\n",
    "t1=time.time()\n",
    "ret=np.sum(n)\n",
    "t2=time.time()\n",
    "print('耗时:%f'%(t2-t1))"
   ]
  }
 ],
 "metadata": {
  "kernelspec": {
   "display_name": "Python 3 (ipykernel)",
   "language": "python",
   "name": "python3"
  },
  "language_info": {
   "codemirror_mode": {
    "name": "ipython",
    "version": 3
   },
   "file_extension": ".py",
   "mimetype": "text/x-python",
   "name": "python",
   "nbconvert_exporter": "python",
   "pygments_lexer": "ipython3",
   "version": "3.12.8"
  }
 },
 "nbformat": 4,
 "nbformat_minor": 5
}
