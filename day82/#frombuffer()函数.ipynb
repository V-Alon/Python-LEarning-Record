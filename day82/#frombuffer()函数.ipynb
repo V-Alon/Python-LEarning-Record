{
 "cells": [
  {
   "cell_type": "code",
   "execution_count": 3,
   "id": "1a3a166c-1aa1-405a-a9da-30510743ebfc",
   "metadata": {},
   "outputs": [
    {
     "data": {
      "text/plain": [
       "array([b'l', b'o', b'v', b'e', b' '], dtype='|S1')"
      ]
     },
     "execution_count": 3,
     "metadata": {},
     "output_type": "execute_result"
    }
   ],
   "source": [
    "import numpy as np\n",
    "x=b'i love you pjl'\n",
    "arr=np.frombuffer(x,dtype='S1',count=5,offset=2)\n",
    "arr\n"
   ]
  },
  {
   "cell_type": "code",
   "execution_count": 8,
   "id": "5294450e-1d19-4694-8c8a-b2997fe670ca",
   "metadata": {},
   "outputs": [
    {
     "name": "stdout",
     "output_type": "stream",
     "text": [
      "<list_iterator object at 0x0000025842F51FC0>\n",
      "<class 'list_iterator'>\n"
     ]
    },
    {
     "data": {
      "text/plain": [
       "array([1, 2, 3, 4, 5])"
      ]
     },
     "execution_count": 8,
     "metadata": {},
     "output_type": "execute_result"
    }
   ],
   "source": [
    "#fromiter()函数\n",
    "x=[1,2,3,4,5]\n",
    "z=iter(x)\n",
    "print(z)\n",
    "print(type(z))\n",
    "arr=np.fromiter(z,dtype=int)\n",
    "arr"
   ]
  },
  {
   "cell_type": "code",
   "execution_count": 15,
   "id": "cd7310c0-7834-44cd-a9cb-51d11329a3c9",
   "metadata": {},
   "outputs": [
    {
     "data": {
      "text/plain": [
       "(array([  0,  11,  22,  33,  44,  55,  66,  77,  88, 100]),\n",
       " np.float64(11.11111111111111))"
      ]
     },
     "execution_count": 15,
     "metadata": {},
     "output_type": "execute_result"
    }
   ],
   "source": [
    "#linspace()函数\n",
    "#创建一个一维数组,数组是一个等差数列构成的\n",
    "#参数说明  num相当于步长   ,endpoint 为1时,stop包含在数列中 ,retstep  为1时 显示间距\n",
    "arr=np.linspace(start=0,stop=100,num=10,endpoint=1,retstep=True,dtype=int)  \n",
    "arr"
   ]
  },
  {
   "cell_type": "code",
   "execution_count": 16,
   "id": "d142c675-829d-4c80-87b4-e4f861f2a71d",
   "metadata": {},
   "outputs": [
    {
     "data": {
      "text/plain": [
       "array([ 10.        ,  12.91549665,  16.68100537,  21.5443469 ,\n",
       "        27.82559402,  35.93813664,  46.41588834,  59.94842503,\n",
       "        77.42636827, 100.        ])"
      ]
     },
     "execution_count": 16,
     "metadata": {},
     "output_type": "execute_result"
    }
   ],
   "source": [
    "#logspace()函数\n",
    "#相比于linspace函数() 有一个base参数\n",
    "arr=np.logspace(1.0,2.0,10)\n",
    "arr"
   ]
  }
 ],
 "metadata": {
  "kernelspec": {
   "display_name": "Python 3 (ipykernel)",
   "language": "python",
   "name": "python3"
  },
  "language_info": {
   "codemirror_mode": {
    "name": "ipython",
    "version": 3
   },
   "file_extension": ".py",
   "mimetype": "text/x-python",
   "name": "python",
   "nbconvert_exporter": "python",
   "pygments_lexer": "ipython3",
   "version": "3.12.8"
  }
 },
 "nbformat": 4,
 "nbformat_minor": 5
}
