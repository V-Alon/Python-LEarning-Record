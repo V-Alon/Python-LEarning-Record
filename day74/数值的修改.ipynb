{
 "cells": [
  {
   "metadata": {
    "ExecuteTime": {
     "end_time": "2025-05-20T09:48:31.295893Z",
     "start_time": "2025-05-20T09:48:31.287029Z"
    }
   },
   "cell_type": "code",
   "source": [
    "import numpy as np\n",
    "\n",
    "\n",
    "t1=np.arange(0,24).reshape(4,6)\n",
    "# print(t1)\n",
    "\n",
    "print(t1[:,2:4])\n",
    "print(' ')\n",
    "\n",
    "t1[:,2:4]=0\n",
    "print(t1)\n",
    "\n",
    "print(t1<10)\n",
    "\n",
    "t2=np.where(t1<10,1,0)\n",
    "print(t2)\n",
    "\n",
    "t1=t1.astype(float)\n",
    "t1[2:,2:]=np.nan\n",
    "print(t1)\n",
    "\n",
    "\n",
    "t4=np.clip(t1,5,10)\n",
    "print(t4)"
   ],
   "id": "46e5fad2e347b77f",
   "outputs": [
    {
     "name": "stdout",
     "output_type": "stream",
     "text": [
      "[[ 2  3]\n",
      " [ 8  9]\n",
      " [14 15]\n",
      " [20 21]]\n",
      " \n",
      "[[ 0  1  0  0  4  5]\n",
      " [ 6  7  0  0 10 11]\n",
      " [12 13  0  0 16 17]\n",
      " [18 19  0  0 22 23]]\n",
      "[[ True  True  True  True  True  True]\n",
      " [ True  True  True  True False False]\n",
      " [False False  True  True False False]\n",
      " [False False  True  True False False]]\n",
      "[[1 1 1 1 1 1]\n",
      " [1 1 1 1 0 0]\n",
      " [0 0 1 1 0 0]\n",
      " [0 0 1 1 0 0]]\n",
      "[[ 0.  1.  0.  0.  4.  5.]\n",
      " [ 6.  7.  0.  0. 10. 11.]\n",
      " [12. 13. nan nan nan nan]\n",
      " [18. 19. nan nan nan nan]]\n",
      "[[ 5.  5.  5.  5.  5.  5.]\n",
      " [ 6.  7.  5.  5. 10. 10.]\n",
      " [10. 10. nan nan nan nan]\n",
      " [10. 10. nan nan nan nan]]\n"
     ]
    }
   ],
   "execution_count": 20
  }
 ],
 "metadata": {
  "kernelspec": {
   "display_name": "Python 3",
   "language": "python",
   "name": "python3"
  },
  "language_info": {
   "codemirror_mode": {
    "name": "ipython",
    "version": 2
   },
   "file_extension": ".py",
   "mimetype": "text/x-python",
   "name": "python",
   "nbconvert_exporter": "python",
   "pygments_lexer": "ipython2",
   "version": "2.7.6"
  }
 },
 "nbformat": 4,
 "nbformat_minor": 5
}
