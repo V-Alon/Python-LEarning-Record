{
 "cells": [
  {
   "cell_type": "code",
   "id": "initial_id",
   "metadata": {
    "collapsed": true,
    "ExecuteTime": {
     "end_time": "2025-05-20T10:00:12.457058Z",
     "start_time": "2025-05-20T10:00:12.448678Z"
    }
   },
   "source": [
    "import numpy as np\n",
    "t1=np.array([[0,1,2,3,4,5]\n",
    "            ,[6,7,8,9,10,11]\n",
    "             ])\n",
    "t2=np.arange(12,24).reshape(2,6)\n",
    "print(t1)\n",
    "print(t2)\n",
    "\n",
    "\n",
    "#数组的拼接\n",
    "#竖直\n",
    "t3=np.vstack((t1,t2))\n",
    "print(t3)\n",
    "#水平\n",
    "t4=np.hstack((t1,t2))\n",
    "print(t4)\n",
    "\n",
    "\n",
    "#数组的分割\n",
    "t5=np.vsplit(t1,2)\n",
    "print(t5)\n",
    "t6=np.hsplit(t2,2)\n",
    "print(t6)"
   ],
   "outputs": [
    {
     "name": "stdout",
     "output_type": "stream",
     "text": [
      "[[ 0  1  2  3  4  5]\n",
      " [ 6  7  8  9 10 11]]\n",
      "[[12 13 14 15 16 17]\n",
      " [18 19 20 21 22 23]]\n",
      "[[ 0  1  2  3  4  5]\n",
      " [ 6  7  8  9 10 11]\n",
      " [12 13 14 15 16 17]\n",
      " [18 19 20 21 22 23]]\n",
      "[[ 0  1  2  3  4  5 12 13 14 15 16 17]\n",
      " [ 6  7  8  9 10 11 18 19 20 21 22 23]]\n",
      "[array([[0, 1, 2, 3, 4, 5]]), array([[ 6,  7,  8,  9, 10, 11]])]\n",
      "[array([[12, 13, 14],\n",
      "       [18, 19, 20]]), array([[15, 16, 17],\n",
      "       [21, 22, 23]])]\n"
     ]
    }
   ],
   "execution_count": 6
  }
 ],
 "metadata": {
  "kernelspec": {
   "display_name": "Python 3",
   "language": "python",
   "name": "python3"
  },
  "language_info": {
   "codemirror_mode": {
    "name": "ipython",
    "version": 2
   },
   "file_extension": ".py",
   "mimetype": "text/x-python",
   "name": "python",
   "nbconvert_exporter": "python",
   "pygments_lexer": "ipython2",
   "version": "2.7.6"
  }
 },
 "nbformat": 4,
 "nbformat_minor": 5
}
