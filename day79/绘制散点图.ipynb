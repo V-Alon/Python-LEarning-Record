{
 "cells": [
  {
   "cell_type": "code",
   "id": "initial_id",
   "metadata": {
    "collapsed": true
   },
   "source": [
    "#coding=utf-8\n",
    "import numpy as np\n",
    "import matplotlib.pyplot as plt\n",
    "\n",
    "UK_path='UK_video_data.csv'\n",
    "US_path='US_video_data.csv'\n",
    "\n",
    "#加载国家数据\n",
    "t_us=np.loadtxt(US_path,delimiter=',',dtype=int)\n",
    "t_uk=np.loadtxt(UK_path,delimiter=',',dtype=int)\n",
    "\n",
    "\n",
    "t_uk_comment=t_uk[:,-1]\n",
    "t_uk_like=t_uk[:,1]\n",
    "\n",
    "plt.figure(figsize=(20,10),dpi=100)\n",
    "plt.scatter(t_uk_like,t_uk_comment)\n",
    "plt.show()"
   ],
   "outputs": [],
   "execution_count": null
  }
 ],
 "metadata": {
  "kernelspec": {
   "display_name": "Python 3",
   "language": "python",
   "name": "python3"
  },
  "language_info": {
   "codemirror_mode": {
    "name": "ipython",
    "version": 2
   },
   "file_extension": ".py",
   "mimetype": "text/x-python",
   "name": "python",
   "nbconvert_exporter": "python",
   "pygments_lexer": "ipython2",
   "version": "2.7.6"
  }
 },
 "nbformat": 4,
 "nbformat_minor": 5
}
