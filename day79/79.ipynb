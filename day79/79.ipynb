{
 "cells": [
  {
   "cell_type": "code",
   "id": "initial_id",
   "metadata": {
    "collapsed": true,
    "ExecuteTime": {
     "end_time": "2025-05-26T07:16:28.833966Z",
     "start_time": "2025-05-26T07:16:28.794966Z"
    }
   },
   "source": [
    "import numpy as np\n",
    "\n",
    "t1=np.arange(100).reshape(20,5)\n",
    "print(t1)\n",
    "x=t1.sum(axis=1)\n",
    "y=t1.sum(axis=0)\n",
    "print(x)\n",
    "print(y)\n",
    "a=t1.mean(axis=0)\n",
    "print(a)\n",
    "# b=t1.median(axis=0)\n",
    "# print(b)\n",
    "c=t1.std(t1,axis=0)\n",
    "print(c)\n",
    "d=t1.ptp(axis=0)\n",
    "print(d)"
   ],
   "outputs": [
    {
     "name": "stdout",
     "output_type": "stream",
     "text": [
      "[[ 0  1  2  3  4]\n",
      " [ 5  6  7  8  9]\n",
      " [10 11 12 13 14]\n",
      " [15 16 17 18 19]\n",
      " [20 21 22 23 24]\n",
      " [25 26 27 28 29]\n",
      " [30 31 32 33 34]\n",
      " [35 36 37 38 39]\n",
      " [40 41 42 43 44]\n",
      " [45 46 47 48 49]\n",
      " [50 51 52 53 54]\n",
      " [55 56 57 58 59]\n",
      " [60 61 62 63 64]\n",
      " [65 66 67 68 69]\n",
      " [70 71 72 73 74]\n",
      " [75 76 77 78 79]\n",
      " [80 81 82 83 84]\n",
      " [85 86 87 88 89]\n",
      " [90 91 92 93 94]\n",
      " [95 96 97 98 99]]\n",
      "[ 10  35  60  85 110 135 160 185 210 235 260 285 310 335 360 385 410 435\n",
      " 460 485]\n",
      "[ 950  970  990 1010 1030]\n",
      "[47.5 48.5 49.5 50.5 51.5]\n"
     ]
    },
    {
     "ename": "TypeError",
     "evalue": "_std() got multiple values for argument 'axis'",
     "output_type": "error",
     "traceback": [
      "\u001B[31m---------------------------------------------------------------------------\u001B[39m",
      "\u001B[31mTypeError\u001B[39m                                 Traceback (most recent call last)",
      "\u001B[36mCell\u001B[39m\u001B[36m \u001B[39m\u001B[32mIn[13]\u001B[39m\u001B[32m, line 13\u001B[39m\n\u001B[32m     10\u001B[39m \u001B[38;5;28mprint\u001B[39m(a)\n\u001B[32m     11\u001B[39m \u001B[38;5;66;03m# b=t1.median(axis=0)\u001B[39;00m\n\u001B[32m     12\u001B[39m \u001B[38;5;66;03m# print(b)\u001B[39;00m\n\u001B[32m---> \u001B[39m\u001B[32m13\u001B[39m c=\u001B[43mt1\u001B[49m\u001B[43m.\u001B[49m\u001B[43mstd\u001B[49m\u001B[43m(\u001B[49m\u001B[43mt1\u001B[49m\u001B[43m,\u001B[49m\u001B[43maxis\u001B[49m\u001B[43m=\u001B[49m\u001B[32;43m0\u001B[39;49m\u001B[43m)\u001B[49m\n\u001B[32m     14\u001B[39m \u001B[38;5;28mprint\u001B[39m(c)\n\u001B[32m     15\u001B[39m d=t1.ptp(axis=\u001B[32m0\u001B[39m)\n",
      "\u001B[31mTypeError\u001B[39m: _std() got multiple values for argument 'axis'"
     ]
    }
   ],
   "execution_count": 13
  }
 ],
 "metadata": {
  "kernelspec": {
   "display_name": "Python 3",
   "language": "python",
   "name": "python3"
  },
  "language_info": {
   "codemirror_mode": {
    "name": "ipython",
    "version": 2
   },
   "file_extension": ".py",
   "mimetype": "text/x-python",
   "name": "python",
   "nbconvert_exporter": "python",
   "pygments_lexer": "ipython2",
   "version": "2.7.6"
  }
 },
 "nbformat": 4,
 "nbformat_minor": 5
}
