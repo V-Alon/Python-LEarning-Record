{
 "cells": [
  {
   "cell_type": "code",
   "id": "initial_id",
   "metadata": {
    "collapsed": true,
    "ExecuteTime": {
     "end_time": "2025-05-26T09:12:49.329797Z",
     "start_time": "2025-05-26T09:12:49.318517Z"
    }
   },
   "source": [
    "import string\n",
    "from random import random\n",
    "\n",
    "import pandas as pd\n",
    "t=pd.Series(range(10))\n",
    "print(t)\n",
    "\n",
    "\n",
    "t2=pd.Series(range(10),index=list('abdawsdasa'))\n",
    "print(t2)\n",
    "\n",
    "temp_dict={'name':'pjl','age':'18','tel':'123456'}\n",
    "t3=pd.Series(temp_dict)\n",
    "print(t3)\n",
    "\n",
    "a={string.ascii_uppercase[i]:i for i in range(10)}\n",
    "\n",
    "\n",
    "t4=pd.Series(a)\n",
    "print(t4)\n",
    "\n",
    "t5=pd.Series(a,index=list(string.ascii_lowercase[5:15]))\n",
    "print(t5)\n",
    "\n",
    "print(t3.index)\n",
    "print(t3.values)"
   ],
   "outputs": [
    {
     "name": "stdout",
     "output_type": "stream",
     "text": [
      "0    0\n",
      "1    1\n",
      "2    2\n",
      "3    3\n",
      "4    4\n",
      "5    5\n",
      "6    6\n",
      "7    7\n",
      "8    8\n",
      "9    9\n",
      "dtype: int64\n",
      "a    0\n",
      "b    1\n",
      "d    2\n",
      "a    3\n",
      "w    4\n",
      "s    5\n",
      "d    6\n",
      "a    7\n",
      "s    8\n",
      "a    9\n",
      "dtype: int64\n",
      "name       pjl\n",
      "age         18\n",
      "tel     123456\n",
      "dtype: object\n",
      "A    0\n",
      "B    1\n",
      "C    2\n",
      "D    3\n",
      "E    4\n",
      "F    5\n",
      "G    6\n",
      "H    7\n",
      "I    8\n",
      "J    9\n",
      "dtype: int64\n",
      "f   NaN\n",
      "g   NaN\n",
      "h   NaN\n",
      "i   NaN\n",
      "j   NaN\n",
      "k   NaN\n",
      "l   NaN\n",
      "m   NaN\n",
      "n   NaN\n",
      "o   NaN\n",
      "dtype: float64\n",
      "Index(['name', 'age', 'tel'], dtype='object')\n",
      "['pjl' '18' '123456']\n"
     ]
    }
   ],
   "execution_count": 14
  }
 ],
 "metadata": {
  "kernelspec": {
   "display_name": "Python 3",
   "language": "python",
   "name": "python3"
  },
  "language_info": {
   "codemirror_mode": {
    "name": "ipython",
    "version": 2
   },
   "file_extension": ".py",
   "mimetype": "text/x-python",
   "name": "python",
   "nbconvert_exporter": "python",
   "pygments_lexer": "ipython2",
   "version": "2.7.6"
  }
 },
 "nbformat": 4,
 "nbformat_minor": 5
}
