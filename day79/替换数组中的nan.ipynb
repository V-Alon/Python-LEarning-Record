{
 "cells": [
  {
   "metadata": {
    "ExecuteTime": {
     "end_time": "2025-05-26T07:32:01.506167Z",
     "start_time": "2025-05-26T07:32:01.497016Z"
    }
   },
   "cell_type": "code",
   "source": [
    "import numpy as np\n",
    "\n",
    "def fill_ndarray(t1):\n",
    "    for i in range(t1.shape[1]):  # 遍历每一列\n",
    "        temp_col = t1[:, i]  # 当前的一列\n",
    "        # 找出非 NaN 并计算均值\n",
    "        non_nan_values = temp_col[~np.isnan(temp_col)]\n",
    "        if len(non_nan_values) > 0:\n",
    "            mean_value = np.mean(non_nan_values)\n",
    "            # 将 NaN 值替换为均值\n",
    "            t1[np.isnan(t1[:, i]), i] = mean_value\n",
    "    return t1\n",
    "\n",
    "if __name__ == '__main__':\n",
    "    t1 = np.arange(24).reshape(4, 6).astype(\"float\")\n",
    "    t1[1, 2:] = np.nan\n",
    "    print(\"\\nOriginal array:\")\n",
    "    print(t1)\n",
    "    t1 = fill_ndarray(t1)\n",
    "    print(\"\\nArray after filling NaN values:\")\n",
    "    print(t1)"
   ],
   "id": "ebcb66010f4e8252",
   "outputs": [
    {
     "name": "stdout",
     "output_type": "stream",
     "text": [
      "\n",
      "Original array:\n",
      "[[ 0.  1.  2.  3.  4.  5.]\n",
      " [ 6.  7. nan nan nan nan]\n",
      " [12. 13. 14. 15. 16. 17.]\n",
      " [18. 19. 20. 21. 22. 23.]]\n",
      "\n",
      "Array after filling NaN values:\n",
      "[[ 0.  1.  2.  3.  4.  5.]\n",
      " [ 6.  7. 12. 13. 14. 15.]\n",
      " [12. 13. 14. 15. 16. 17.]\n",
      " [18. 19. 20. 21. 22. 23.]]\n"
     ]
    }
   ],
   "execution_count": 2
  }
 ],
 "metadata": {
  "kernelspec": {
   "display_name": "Python 3",
   "language": "python",
   "name": "python3"
  },
  "language_info": {
   "codemirror_mode": {
    "name": "ipython",
    "version": 2
   },
   "file_extension": ".py",
   "mimetype": "text/x-python",
   "name": "python",
   "nbconvert_exporter": "python",
   "pygments_lexer": "ipython2",
   "version": "2.7.6"
  }
 },
 "nbformat": 4,
 "nbformat_minor": 5
}
