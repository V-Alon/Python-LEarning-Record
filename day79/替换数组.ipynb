{
 "cells": [
  {
   "cell_type": "code",
   "id": "initial_id",
   "metadata": {
    "collapsed": true,
    "ExecuteTime": {
     "end_time": "2025-05-26T07:35:13.500589Z",
     "start_time": "2025-05-26T07:35:13.443588Z"
    }
   },
   "source": [
    "import numpy as np\n",
    "\n",
    "\n",
    "#\n",
    "# print(t1)\n",
    "def fill_ndarray(t1):\n",
    "    for i in range(t1.shape[1]):#遍历每一列\n",
    "        temp_col = t1[:,i]#当前的一列\n",
    "\n",
    "        nan_number = np.count_nonzero(temp_col!=temp_col)\n",
    "\n",
    "        if nan_number!=0:#不为0,说明当前着一列中有nan\n",
    "            temp_not_nan_col=temp_col[temp_col==temp_col]=np.nan#当前这一列不为nan的array\n",
    "\n",
    "            temp_col[np.isnan(temp_col)] = temp_not_nan_col.mean()#选中当前为nan的位置替换成均值\n",
    "\n",
    "    return t1\n",
    "if __name__ == '__main__':\n",
    "    t1=np.arange(24).reshape(4,6).astype(\"float\")\n",
    "\n",
    "\n",
    "    t1[1,2:]=np.nan\n",
    "    print(t1)\n",
    "    t1=fill_ndarray(t1)\n",
    "    print(t1)"
   ],
   "outputs": [
    {
     "name": "stdout",
     "output_type": "stream",
     "text": [
      "[[ 0.  1.  2.  3.  4.  5.]\n",
      " [ 6.  7. nan nan nan nan]\n",
      " [12. 13. 14. 15. 16. 17.]\n",
      " [18. 19. 20. 21. 22. 23.]]\n"
     ]
    },
    {
     "ename": "AttributeError",
     "evalue": "'float' object has no attribute 'mean'",
     "output_type": "error",
     "traceback": [
      "\u001B[31m---------------------------------------------------------------------------\u001B[39m",
      "\u001B[31mAttributeError\u001B[39m                            Traceback (most recent call last)",
      "\u001B[36mCell\u001B[39m\u001B[36m \u001B[39m\u001B[32mIn[7]\u001B[39m\u001B[32m, line 24\u001B[39m\n\u001B[32m     22\u001B[39m t1[\u001B[32m1\u001B[39m,\u001B[32m2\u001B[39m:]=np.nan\n\u001B[32m     23\u001B[39m \u001B[38;5;28mprint\u001B[39m(t1)\n\u001B[32m---> \u001B[39m\u001B[32m24\u001B[39m t1=\u001B[43mfill_ndarray\u001B[49m\u001B[43m(\u001B[49m\u001B[43mt1\u001B[49m\u001B[43m)\u001B[49m\n\u001B[32m     25\u001B[39m \u001B[38;5;28mprint\u001B[39m(t1)\n",
      "\u001B[36mCell\u001B[39m\u001B[36m \u001B[39m\u001B[32mIn[7]\u001B[39m\u001B[32m, line 15\u001B[39m, in \u001B[36mfill_ndarray\u001B[39m\u001B[34m(t1)\u001B[39m\n\u001B[32m     12\u001B[39m     \u001B[38;5;28;01mif\u001B[39;00m nan_number!=\u001B[32m0\u001B[39m:\u001B[38;5;66;03m#不为0,说明当前着一列中有nan\u001B[39;00m\n\u001B[32m     13\u001B[39m         temp_not_nan_col=temp_col[temp_col==temp_col]=np.nan\u001B[38;5;66;03m#当前这一列不为nan的array\u001B[39;00m\n\u001B[32m---> \u001B[39m\u001B[32m15\u001B[39m         temp_col[np.isnan(temp_col)] = \u001B[43mtemp_not_nan_col\u001B[49m\u001B[43m.\u001B[49m\u001B[43mmean\u001B[49m()\u001B[38;5;66;03m#选中当前为nan的位置替换成均值\u001B[39;00m\n\u001B[32m     17\u001B[39m \u001B[38;5;28;01mreturn\u001B[39;00m t1\n",
      "\u001B[31mAttributeError\u001B[39m: 'float' object has no attribute 'mean'"
     ]
    }
   ],
   "execution_count": 7
  }
 ],
 "metadata": {
  "kernelspec": {
   "display_name": "Python 3",
   "language": "python",
   "name": "python3"
  },
  "language_info": {
   "codemirror_mode": {
    "name": "ipython",
    "version": 2
   },
   "file_extension": ".py",
   "mimetype": "text/x-python",
   "name": "python",
   "nbconvert_exporter": "python",
   "pygments_lexer": "ipython2",
   "version": "2.7.6"
  }
 },
 "nbformat": 4,
 "nbformat_minor": 5
}
