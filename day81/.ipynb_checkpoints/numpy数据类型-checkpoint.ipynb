{
 "cells": [
  {
   "cell_type": "code",
   "execution_count": 1,
   "id": "initial_id",
   "metadata": {},
   "outputs": [
    {
     "name": "stdout",
     "output_type": "stream",
     "text": [
      "int32 <class 'numpy.dtypes.Int32DType'>\n"
     ]
    }
   ],
   "source": [
    "import numpy as np\n",
    "dt= np.dtype(np.int32)\n",
    "print(dt,type(dt))"
   ]
  },
  {
   "cell_type": "code",
   "execution_count": 2,
   "id": "adb62f45-7b1d-4f14-ab07-9ff9f51182c2",
   "metadata": {},
   "outputs": [
    {
     "name": "stdout",
     "output_type": "stream",
     "text": [
      "int32 <class 'numpy.dtypes.Int32DType'>\n"
     ]
    }
   ],
   "source": [
    "import numpy as np\n",
    "dt= np.dtype('i4')\n",
    "print(dt,type(dt))"
   ]
  },
  {
   "cell_type": "code",
   "execution_count": 4,
   "id": "2231c15e-3738-4c2b-bab9-09324f247604",
   "metadata": {},
   "outputs": [
    {
     "name": "stdout",
     "output_type": "stream",
     "text": [
      "[('name', 'S20'), ('age', '<i4'), ('marks', '<f4')] <class 'numpy.dtypes.VoidDType'>\n"
     ]
    }
   ],
   "source": [
    "import numpy as np\n",
    "student=np.dtype([('name','S20'),('age','i4'),('marks','f4')])\n",
    "print(student,type(student))"
   ]
  }
 ],
 "metadata": {
  "kernelspec": {
   "display_name": "Python 3 (ipykernel)",
   "language": "python",
   "name": "python3"
  },
  "language_info": {
   "codemirror_mode": {
    "name": "ipython",
    "version": 3
   },
   "file_extension": ".py",
   "mimetype": "text/x-python",
   "name": "python",
   "nbconvert_exporter": "python",
   "pygments_lexer": "ipython3",
   "version": "3.12.8"
  }
 },
 "nbformat": 4,
 "nbformat_minor": 5
}
