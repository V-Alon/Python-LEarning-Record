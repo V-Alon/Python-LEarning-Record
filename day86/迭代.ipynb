{
 "cells": [
  {
   "cell_type": "code",
   "execution_count": 9,
   "id": "64d389ae-9b25-4774-9929-88c742c83a7c",
   "metadata": {},
   "outputs": [
    {
     "name": "stdout",
     "output_type": "stream",
     "text": [
      "[[ 0  1  2]\n",
      " [ 3  4  5]\n",
      " [ 6  7  8]\n",
      " [ 9 10 11]]\n",
      "\n",
      "\n",
      "0,1,2,3,4,5,6,7,8,9,10,11,\n",
      "\n",
      "--------------------\n",
      "[[ 0  3  6  9]\n",
      " [ 1  4  7 10]\n",
      " [ 2  5  8 11]]\n",
      "\n",
      "\n",
      "0,3,6,9,1,4,7,10,2,5,8,11,"
     ]
    }
   ],
   "source": [
    "import numpy as np\n",
    "arr=np.arange(12).reshape(4,3)\n",
    "print(arr)\n",
    "print('\\n')\n",
    "for x in np.nditer(arr.T):\n",
    "    print(x,end=',')\n",
    "print('\\n')\n",
    "\n",
    "print('-'*20)\n",
    "\n",
    "\n",
    "b=arr.T.copy(order='C')\n",
    "print(b)\n",
    "print('\\n')\n",
    "for x in np.nditer(b):\n",
    "    print(x,end=',')"
   ]
  }
 ],
 "metadata": {
  "kernelspec": {
   "display_name": "Python 3 (ipykernel)",
   "language": "python",
   "name": "python3"
  },
  "language_info": {
   "codemirror_mode": {
    "name": "ipython",
    "version": 3
   },
   "file_extension": ".py",
   "mimetype": "text/x-python",
   "name": "python",
   "nbconvert_exporter": "python",
   "pygments_lexer": "ipython3",
   "version": "3.12.8"
  }
 },
 "nbformat": 4,
 "nbformat_minor": 5
}
