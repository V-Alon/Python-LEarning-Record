{
 "cells": [
  {
   "cell_type": "code",
   "execution_count": null,
   "id": "initial_id",
   "metadata": {
    "collapsed": true
   },
   "outputs": [],
   "source": [
    "from matplotlib import pyplot as plt\n",
    "from matplotlib import font_manager as fm\n",
    "font_path = r\"C:\\Windows\\Fonts\\simhei.ttf\"  # SimHei 字体路径\n",
    "my_font = fm.FontProperties(fname=font_path)\n",
    "\n",
    "\n",
    "a=['猩球崛起','敦刻尔克','蜘蛛侠:英雄归来','战狼2']\n",
    "b_16=[12312,3214,5613,2323]\n",
    "b_15=[17323,213,5345,6122]\n",
    "b_14=[9123,2321,8232,234]\n",
    "\n",
    "\n",
    "\n",
    "\n"
   ]
  }
 ],
 "metadata": {
  "kernelspec": {
   "display_name": "Python 3",
   "language": "python",
   "name": "python3"
  },
  "language_info": {
   "codemirror_mode": {
    "name": "ipython",
    "version": 2
   },
   "file_extension": ".py",
   "mimetype": "text/x-python",
   "name": "python",
   "nbconvert_exporter": "python",
   "pygments_lexer": "ipython2",
   "version": "2.7.6"
  }
 },
 "nbformat": 4,
 "nbformat_minor": 5
}
